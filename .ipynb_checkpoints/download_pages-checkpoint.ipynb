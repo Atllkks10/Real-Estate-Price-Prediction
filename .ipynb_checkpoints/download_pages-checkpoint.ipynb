{
 "cells": [
  {
   "cell_type": "code",
   "execution_count": 1,
   "id": "db975f53",
   "metadata": {},
   "outputs": [],
   "source": [
    "#importing modules\n",
    "from requests import get\n",
    "from time import sleep"
   ]
  },
  {
   "cell_type": "code",
   "execution_count": 2,
   "id": "352f1574",
   "metadata": {},
   "outputs": [],
   "source": [
    "#listing 188 urls with page-num pattern\n",
    "page_urls = ['https://www.hepsiemlak.com/kadikoy-satilik']\n",
    "page_urls = page_urls + [\n",
    "    f'https://www.hepsiemlak.com/kadikoy-satilik?page={i}' for i in range(2,189)]"
   ]
  },
  {
   "cell_type": "code",
   "execution_count": null,
   "id": "56b3c84d",
   "metadata": {},
   "outputs": [],
   "source": [
    "#downloading pages to desired folder with get requests and 5 seconds of sleep each time.\n",
    "#sleeps are used in order to avoid error with code 429 (too many requests).\n",
    "for url in page_urls:\n",
    "    sleep(5)\n",
    "    request = get(url, allow_redirects = True)\n",
    "    open(rf'web_pages\\page{page_urls.index(url)}.html', \n",
    "          'wb').write(request.content)"
   ]
  }
 ],
 "metadata": {
  "kernelspec": {
   "display_name": "Python 3.8.8 64-bit",
   "language": "python",
   "name": "python388jvsc74a57bd03e28bccf25cd82a460b9b7b3f8efd5dd89dfb5e0a3b514b969cb04a63592f4dd"
  },
  "language_info": {
   "codemirror_mode": {
    "name": "ipython",
    "version": 3
   },
   "file_extension": ".py",
   "mimetype": "text/x-python",
   "name": "python",
   "nbconvert_exporter": "python",
   "pygments_lexer": "ipython3",
   "version": "3.8.10"
  }
 },
 "nbformat": 4,
 "nbformat_minor": 5
}
