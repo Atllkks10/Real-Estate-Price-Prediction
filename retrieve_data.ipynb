{
 "cells": [
  {
   "cell_type": "code",
   "execution_count": 1,
   "id": "65aa757e",
   "metadata": {},
   "outputs": [],
   "source": [
    "# importing modules\n",
    "from bs4 import BeautifulSoup\n",
    "import pandas as pd\n",
    "import regex as re"
   ]
  },
  {
   "cell_type": "code",
   "execution_count": null,
   "id": "b670e339",
   "metadata": {},
   "outputs": [],
   "source": [
    "# retrieving data from downloaded web pages\n",
    "\n",
    "price = []\n",
    "room_hall = []\n",
    "floor_area = []\n",
    "age = []\n",
    "floor = []\n",
    "neighborhood = []\n",
    "\n",
    "for i in range(0,188):\n",
    "    file = open(rf'web_pages/page{i}.html','r', encoding = 'utf8')\n",
    "    soup = BeautifulSoup(file, 'html.parser')\n",
    "    for j in soup.find_all('div', {'class':'list-view-price'}):\n",
    "        price.append(j.text)\n",
    "    for j in soup.find_all('span', {'class':'celly houseRoomCount'}):\n",
    "        room_hall.append(j.text)\n",
    "    for j in soup.find_all('span', {'class':'celly squareMeter list-view-size'}):\n",
    "        floor_area.append(j.text)\n",
    "    for j in soup.find_all('span', {'class':'celly buildingAge'}):\n",
    "        age.append(j.text)\n",
    "    for j in soup.find_all('span', {'class':'celly floortype'}):\n",
    "        floor.append(j.text)\n",
    "    for j in soup.find_all('div', {'class':'list-view-location'}):\n",
    "        neighborhood.append(j.text)\n",
    "    print(i)\n"
   ]
  },
  {
   "cell_type": "code",
   "execution_count": null,
   "id": "970c6c54",
   "metadata": {},
   "outputs": [],
   "source": [
    "# converting to dataframe and storing as csv to be used later\n",
    "data = pd.DataFrame()\n",
    "data['price'] = price\n",
    "data['room_hall'] = room_hall\n",
    "data['floor_area'] = floor_area\n",
    "data['age'] = age\n",
    "data['floor'] = floor\n",
    "data['neighborhood'] = neighborhood\n",
    "\n",
    "data.to_csv(r'product_data\\data.csv')"
   ]
  }
 ],
 "metadata": {
  "kernelspec": {
   "display_name": "Python 3",
   "language": "python",
   "name": "python3"
  },
  "language_info": {
   "codemirror_mode": {
    "name": "ipython",
    "version": 3
   },
   "file_extension": ".py",
   "mimetype": "text/x-python",
   "name": "python",
   "nbconvert_exporter": "python",
   "pygments_lexer": "ipython3",
   "version": "3.8.5"
  }
 },
 "nbformat": 4,
 "nbformat_minor": 5
}
