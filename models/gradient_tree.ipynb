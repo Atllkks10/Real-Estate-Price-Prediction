{
 "cells": [
  {
   "cell_type": "code",
   "execution_count": 20,
   "id": "845f7ccc",
   "metadata": {},
   "outputs": [],
   "source": [
    "import pandas as pd\n",
    "from sklearn.ensemble import GradientBoostingRegressor\n",
    "from sklearn.model_selection import train_test_split"
   ]
  },
  {
   "cell_type": "markdown",
   "id": "f7d26cc2",
   "metadata": {},
   "source": [
    "## Import Data"
   ]
  },
  {
   "cell_type": "code",
   "execution_count": 21,
   "id": "f6111754",
   "metadata": {},
   "outputs": [
    {
     "name": "stdout",
     "output_type": "stream",
     "text": [
      "      floor_area  age  floor  roof  room_num  hall_num  \\\n",
      "0             75    0     14     0         1         1   \n",
      "1            165   17      5     0         3         1   \n",
      "2            145    5      7     0         3         1   \n",
      "3            165   15     10     0         3         1   \n",
      "4            145   12      1     0         3         1   \n",
      "...          ...  ...    ...   ...       ...       ...   \n",
      "4137         215    0      9     0         4         1   \n",
      "4138         200    0     10     0         4         1   \n",
      "4139         200    2      8     0         4         1   \n",
      "4140         110    0     10     0         3         1   \n",
      "4141         130    0     11     0         3         1   \n",
      "\n",
      "      neighborhood_19MayısMahallesi  neighborhood_AcıbademMahallesi  \\\n",
      "0                               0.0                             0.0   \n",
      "1                               0.0                             0.0   \n",
      "2                               0.0                             0.0   \n",
      "3                               0.0                             0.0   \n",
      "4                               0.0                             0.0   \n",
      "...                             ...                             ...   \n",
      "4137                            0.0                             0.0   \n",
      "4138                            0.0                             0.0   \n",
      "4139                            0.0                             0.0   \n",
      "4140                            0.0                             0.0   \n",
      "4141                            0.0                             0.0   \n",
      "\n",
      "      neighborhood_BostancıMahallesi  neighborhood_CaddebostanMahallesi  ...  \\\n",
      "0                                0.0                                0.0  ...   \n",
      "1                                0.0                                0.0  ...   \n",
      "2                                0.0                                0.0  ...   \n",
      "3                                0.0                                0.0  ...   \n",
      "4                                0.0                                0.0  ...   \n",
      "...                              ...                                ...  ...   \n",
      "4137                             0.0                                0.0  ...   \n",
      "4138                             0.0                                0.0  ...   \n",
      "4139                             0.0                                0.0  ...   \n",
      "4140                             0.0                                0.0  ...   \n",
      "4141                             0.0                                0.0  ...   \n",
      "\n",
      "      neighborhood_GöztepeMahallesi  neighborhood_HasanpaşaMahallesi  \\\n",
      "0                               0.0                              0.0   \n",
      "1                               0.0                              0.0   \n",
      "2                               1.0                              0.0   \n",
      "3                               1.0                              0.0   \n",
      "4                               1.0                              0.0   \n",
      "...                             ...                              ...   \n",
      "4137                            0.0                              0.0   \n",
      "4138                            0.0                              0.0   \n",
      "4139                            0.0                              0.0   \n",
      "4140                            0.0                              0.0   \n",
      "4141                            0.0                              0.0   \n",
      "\n",
      "      neighborhood_KozyatağıMahallesi  neighborhood_KoşuyoluMahallesi  \\\n",
      "0                                 0.0                             0.0   \n",
      "1                                 0.0                             0.0   \n",
      "2                                 0.0                             0.0   \n",
      "3                                 0.0                             0.0   \n",
      "4                                 0.0                             0.0   \n",
      "...                               ...                             ...   \n",
      "4137                              0.0                             0.0   \n",
      "4138                              0.0                             0.0   \n",
      "4139                              0.0                             0.0   \n",
      "4140                              0.0                             0.0   \n",
      "4141                              0.0                             0.0   \n",
      "\n",
      "      neighborhood_MerdivenköyMahallesi  neighborhood_OsmanağaMahallesi  \\\n",
      "0                                   0.0                             0.0   \n",
      "1                                   0.0                             0.0   \n",
      "2                                   0.0                             0.0   \n",
      "3                                   0.0                             0.0   \n",
      "4                                   0.0                             0.0   \n",
      "...                                 ...                             ...   \n",
      "4137                                0.0                             0.0   \n",
      "4138                                0.0                             0.0   \n",
      "4139                                0.0                             0.0   \n",
      "4140                                0.0                             0.0   \n",
      "4141                                0.0                             0.0   \n",
      "\n",
      "      neighborhood_RasimpaşaMahallesi  neighborhood_SahrayıCeditMahallesi  \\\n",
      "0                                 0.0                                 1.0   \n",
      "1                                 0.0                                 0.0   \n",
      "2                                 0.0                                 0.0   \n",
      "3                                 0.0                                 0.0   \n",
      "4                                 0.0                                 0.0   \n",
      "...                               ...                                 ...   \n",
      "4137                              0.0                                 0.0   \n",
      "4138                              0.0                                 0.0   \n",
      "4139                              0.0                                 0.0   \n",
      "4140                              0.0                                 0.0   \n",
      "4141                              0.0                                 0.0   \n",
      "\n",
      "      neighborhood_SuadiyeMahallesi  neighborhood_ZühtüpaşaMahallesi  \n",
      "0                               0.0                              0.0  \n",
      "1                               0.0                              0.0  \n",
      "2                               0.0                              0.0  \n",
      "3                               0.0                              0.0  \n",
      "4                               0.0                              0.0  \n",
      "...                             ...                              ...  \n",
      "4137                            1.0                              0.0  \n",
      "4138                            1.0                              0.0  \n",
      "4139                            0.0                              0.0  \n",
      "4140                            1.0                              0.0  \n",
      "4141                            0.0                              0.0  \n",
      "\n",
      "[4142 rows x 27 columns]\n",
      "         price\n",
      "0      2300000\n",
      "1      4690000\n",
      "2      6500000\n",
      "3      6300000\n",
      "4      5500000\n",
      "...        ...\n",
      "4137   9500000\n",
      "4138  12120000\n",
      "4139   4300000\n",
      "4140  10400000\n",
      "4141   3650000\n",
      "\n",
      "[4142 rows x 1 columns]\n"
     ]
    }
   ],
   "source": [
    "data = pd.read_csv('..\\product_data\\processed_data.csv')\n",
    "data = data.iloc[:,2:]\n",
    "X = data.drop(['price'], axis = 1)\n",
    "Y = data[['price']]\n",
    "print(X)\n",
    "print(Y)"
   ]
  },
  {
   "cell_type": "markdown",
   "id": "7bf103ad",
   "metadata": {},
   "source": [
    "## Train-Test Split"
   ]
  },
  {
   "cell_type": "code",
   "execution_count": 22,
   "id": "135e82e0",
   "metadata": {},
   "outputs": [],
   "source": [
    "from sklearn.model_selection import train_test_split\n",
    "x_train, x_test, y_train, y_test = train_test_split(X, Y, test_size = 0.25)"
   ]
  },
  {
   "cell_type": "markdown",
   "id": "80311039",
   "metadata": {},
   "source": [
    "## Feature Selection With Brute Force"
   ]
  },
  {
   "cell_type": "code",
   "execution_count": 23,
   "id": "b91c0353",
   "metadata": {},
   "outputs": [],
   "source": [
    "regression = GradientBoostingRegressor(n_estimators = 1000, random_state=1, alpha = 0.85)"
   ]
  },
  {
   "cell_type": "code",
   "execution_count": null,
   "id": "26244c45",
   "metadata": {},
   "outputs": [],
   "source": [
    "from mlxtend.feature_selection import ExhaustiveFeatureSelector as EFS\n",
    "x_except_neighborhood = x_train.iloc[:,[x for x in range(6)]]\n",
    "print(x_except_neighborhood)\n",
    "regression = GradientBoostingRegressor(n_estimators = 250, random_state=0, alpha = 0.85)\n",
    "efs_regression = EFS(regression, scoring = 'neg_mean_squared_error', min_features = 1, max_features = 6, print_progress = True, cv = 20)\n",
    "efs_regression.fit(x_except_neighborhood, y_train.values.ravel())\n",
    "print(f'{efs_regression.best_score_}')\n",
    "print(f'{efs_regression.best_idx_}')\n",
    "print(f'{efs_regression.best_feature_names_}')\n",
    "print(pd.DataFrame.from_dict(efs_regression.get_metric_dict()).T)"
   ]
  },
  {
   "cell_type": "markdown",
   "id": "ad5337a3",
   "metadata": {},
   "source": [
    "As seen above, roof column which specifies whether apartment has a terrace effects model in a negative manner. Optimal feature selection would exclude roof column."
   ]
  },
  {
   "cell_type": "code",
   "execution_count": 24,
   "id": "b6d041fd",
   "metadata": {},
   "outputs": [],
   "source": [
    "x_train = x_train.drop('roof', axis = 1)\n",
    "x_test = x_test.drop('roof', axis = 1)"
   ]
  },
  {
   "cell_type": "code",
   "execution_count": 25,
   "id": "681f4fe4",
   "metadata": {},
   "outputs": [
    {
     "data": {
      "text/plain": [
       "GradientBoostingRegressor(alpha=0.85, n_estimators=1000, random_state=1)"
      ]
     },
     "execution_count": 25,
     "metadata": {},
     "output_type": "execute_result"
    }
   ],
   "source": [
    "regression.fit(x_train, y_train.values.ravel())"
   ]
  },
  {
   "cell_type": "code",
   "execution_count": 26,
   "id": "ff80112e",
   "metadata": {},
   "outputs": [],
   "source": [
    "y_pred = regression.predict(x_test)"
   ]
  },
  {
   "cell_type": "code",
   "execution_count": 27,
   "id": "e738d3fb",
   "metadata": {},
   "outputs": [
    {
     "name": "stdout",
     "output_type": "stream",
     "text": [
      "R-squared: 0.775967527037246\n",
      "Adjusted R-squared: 0.7740757296039782\n",
      "Mean absolute percentage error: 0.1547019827419966\n"
     ]
    }
   ],
   "source": [
    "from sklearn.metrics import r2_score\n",
    "from sklearn.metrics import mean_absolute_percentage_error\n",
    "\n",
    "r2 = r2_score(y_test, y_pred)\n",
    "adjusted_r2 = 1 - (1-r2)*((x_train.shape[0]-1)/(x_train.shape[0]-x_train.shape[1]-1))\n",
    "mape = mean_absolute_percentage_error(y_test, y_pred)\n",
    "print(f'R-squared: {r2}')\n",
    "print(f'Adjusted R-squared: {adjusted_r2}')\n",
    "print(f'Mean absolute percentage error: {mape}')"
   ]
  },
  {
   "cell_type": "code",
   "execution_count": 11,
   "id": "ef3d9c06",
   "metadata": {},
   "outputs": [],
   "source": [
    "data = data.drop(['roof'], axis = 1)"
   ]
  },
  {
   "cell_type": "code",
   "execution_count": 12,
   "id": "76a18dae",
   "metadata": {},
   "outputs": [],
   "source": [
    "def encode_neighborhood(neighborhood: str):\n",
    "    A = []\n",
    "    for i in data.columns[6:]:\n",
    "        if neighborhood in i:\n",
    "            A = A + [1]\n",
    "        else:\n",
    "            A = A + [0]\n",
    "    return A"
   ]
  },
  {
   "cell_type": "code",
   "execution_count": 13,
   "id": "8440ac60",
   "metadata": {},
   "outputs": [],
   "source": [
    "import numpy as np\n",
    "def predict_price(floor_area: int, age: int, floor: int, room_num : int , hall_num: int, neighborhood: str):\n",
    "    A = [floor_area, age, floor,room_num, hall_num] + encode_neighborhood(neighborhood)\n",
    "    A = np.array(A).reshape(1,-1)\n",
    "    prediction = regression.predict(A)\n",
    "    return prediction"
   ]
  },
  {
   "cell_type": "code",
   "execution_count": 14,
   "id": "6dd180da",
   "metadata": {},
   "outputs": [
    {
     "name": "stdout",
     "output_type": "stream",
     "text": [
      "[4094303.04460011]\n"
     ]
    }
   ],
   "source": [
    "print(predict_price(130,7,5,3,1,'Bostancı'))"
   ]
  },
  {
   "cell_type": "code",
   "execution_count": 15,
   "id": "09ad5481",
   "metadata": {},
   "outputs": [
    {
     "name": "stdout",
     "output_type": "stream",
     "text": [
      "Index(['floor_area', 'age', 'floor', 'room_num', 'hall_num',\n",
      "       'neighborhood_19MayısMahallesi', 'neighborhood_AcıbademMahallesi',\n",
      "       'neighborhood_BostancıMahallesi', 'neighborhood_CaddebostanMahallesi',\n",
      "       'neighborhood_CaferağaMahallesi', 'neighborhood_DumlupınarMahallesi',\n",
      "       'neighborhood_ErenköyMahallesi', 'neighborhood_EğitimMahallesi',\n",
      "       'neighborhood_FenerbahçeMahallesi', 'neighborhood_FeneryoluMahallesi',\n",
      "       'neighborhood_FikirtepeMahallesi', 'neighborhood_GöztepeMahallesi',\n",
      "       'neighborhood_HasanpaşaMahallesi', 'neighborhood_KozyatağıMahallesi',\n",
      "       'neighborhood_KoşuyoluMahallesi', 'neighborhood_MerdivenköyMahallesi',\n",
      "       'neighborhood_OsmanağaMahallesi', 'neighborhood_RasimpaşaMahallesi',\n",
      "       'neighborhood_SahrayıCeditMahallesi', 'neighborhood_SuadiyeMahallesi',\n",
      "       'neighborhood_ZühtüpaşaMahallesi'],\n",
      "      dtype='object')\n"
     ]
    }
   ],
   "source": [
    "print(x_test.columns)"
   ]
  },
  {
   "cell_type": "code",
   "execution_count": 16,
   "id": "39c4e4ca",
   "metadata": {},
   "outputs": [],
   "source": [
    "trial = pd.read_csv(r'C:\\Users\\atiak\\Desktop\\hepsi_emlak\\product_data\\processed_data.csv')\n",
    "trial = trial.iloc[:,2:]"
   ]
  },
  {
   "cell_type": "code",
   "execution_count": 17,
   "id": "b26c1c59",
   "metadata": {},
   "outputs": [],
   "source": [
    "trial.to_csv(r'C:\\Users\\atiak\\Desktop\\data.csv')"
   ]
  },
  {
   "cell_type": "code",
   "execution_count": 19,
   "id": "b779885a",
   "metadata": {},
   "outputs": [
    {
     "data": {
      "text/plain": [
       "['gradient_tree_model.joblib']"
      ]
     },
     "execution_count": 19,
     "metadata": {},
     "output_type": "execute_result"
    }
   ],
   "source": [
    "import joblib\n",
    "filename = 'gradient_tree_model.joblib'\n",
    "joblib.dump(regression, filename)"
   ]
  },
  {
   "cell_type": "code",
   "execution_count": null,
   "id": "09653257",
   "metadata": {},
   "outputs": [],
   "source": []
  }
 ],
 "metadata": {
  "kernelspec": {
   "display_name": "Python 3",
   "language": "python",
   "name": "python3"
  },
  "language_info": {
   "codemirror_mode": {
    "name": "ipython",
    "version": 3
   },
   "file_extension": ".py",
   "mimetype": "text/x-python",
   "name": "python",
   "nbconvert_exporter": "python",
   "pygments_lexer": "ipython3",
   "version": "3.8.5"
  }
 },
 "nbformat": 4,
 "nbformat_minor": 5
}
